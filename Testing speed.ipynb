{
 "cells": [
  {
   "cell_type": "markdown",
   "id": "26aba566",
   "metadata": {},
   "source": [
    "**This notebook is to test the computational time by CNN-driven advection scheme.**\n",
    "\n",
    "This notebook perform loading the velocity field, implementing the machine-learned scheme, and wallclock time measurement."
   ]
  },
  {
   "cell_type": "code",
   "execution_count": 1,
   "id": "ae19b122",
   "metadata": {},
   "outputs": [],
   "source": [
    "## Import packages\n",
    "#import Pkg\n",
    "#Pkg.add(\"Plots\")\n",
    "using Plots\n",
    "#Pkg.add(\"BenchmarkTools\")\n",
    "using BenchmarkTools\n",
    "#Pkg.add(\"Flux\")\n",
    "using Flux\n",
    "#Pkg.add(\"CSV\")\n",
    "using CSV\n",
    "#Pkg.add(\"DelimitedFiles\")\n",
    "using DelimitedFiles\n",
    "#Pkg.add(\"Statistics\")\n",
    "using Statistics\n",
    "#Pkg.add(\"BSON\")\n",
    "using BSON: @save\n",
    "using BSON: @load\n",
    "#Pkg.add(\"StatsBase\")\n",
    "using StatsBase\n",
    "#Pkg.add(\"Random\")\n",
    "using Random"
   ]
  },
  {
   "cell_type": "code",
   "execution_count": 2,
   "id": "ee722eeb",
   "metadata": {},
   "outputs": [
    {
     "data": {
      "text/plain": [
       "pgm_ml (generic function with 1 method)"
      ]
     },
     "execution_count": 2,
     "metadata": {},
     "output_type": "execute_result"
    }
   ],
   "source": [
    "## Integrating through the whole timesteps using ML based advection solver ##\n",
    "## Programming advection scheme with 3 stencil (default) ##\n",
    "function pgm_ml(x, u1, model, xdim_total, nstep_total, dx, dt)\n",
    "    \n",
    "    ## Initialize\n",
    "    history_2x_learned = zeros(Float32, xdim_total, 1, nstep)\n",
    "    history_2x_learned[:,:,1] = x[:,1,1,1]\n",
    "    s1_input = x[:,:,:,1]\n",
    "    #s1_scale = s1_input\n",
    "    s1_bc = zeros(xdim_total+2)\n",
    "    \n",
    "    ## Integrate\n",
    "    for n in 1:nstep_total-1\n",
    "        # learned solver\n",
    "        #coeff_estimated = model(hcat(s1_input, u1[:,:,:,n]))\n",
    "        coeff_estimated = reshape(model(hcat(s1_input, u1[:,:,:,n])), (xdim_total, 2, 3))\n",
    "        su = s1_input\n",
    "        s1_bc = vcat( [su[1]], [su[i] for i in 1:xdim_total], [su[xdim_total]])\n",
    "        s1_scale = reshape(hcat([s1_bc[i] for i in 1:xdim_total],\n",
    "                [s1_bc[i] for i in 2:xdim_total+1],\n",
    "                [s1_bc[i] for i in 3:xdim_total+2]), xdim_total, 3)\n",
    "        s2_2x = reshape(s1_input, xdim_total) + 100*dt/dx*sum(coeff_estimated[:,1,:].*s1_scale, dims=2) \n",
    "                + 10000*(dt*dt)/(dx*dx)*sum(coeff_estimated[:,2,:].*s1_scale, dims=2)\n",
    "        \n",
    "        history_2x_learned[:,1,n+1] = s2_2x\n",
    "        s1_input = reshape(s2_2x, (xdim_total,1,1))\n",
    "    end\n",
    "    \n",
    "    return history_2x_learned\n",
    "end"
   ]
  },
  {
   "cell_type": "code",
   "execution_count": 9,
   "id": "c09f3b9a",
   "metadata": {},
   "outputs": [
    {
     "data": {
      "text/plain": [
       "pgm_ml (generic function with 1 method)"
      ]
     },
     "execution_count": 9,
     "metadata": {},
     "output_type": "execute_result"
    }
   ],
   "source": [
    "## Integrating through the whole timesteps using ML based advection solver ##\n",
    "## Programming advection scheme with 5 stencil ##\n",
    "function pgm_ml(x, u1, model, xdim_total, nstep_total, dx, dt)\n",
    "    \n",
    "    ## Initialize\n",
    "    history_2x_learned = zeros(Float32, xdim, 1, nstep)\n",
    "    history_2x_learned[:,:,1] = x[:,1,1,1]\n",
    "    s1_input = x[:,:,:,1]\n",
    "    #s1_scale = s1_input\n",
    "    s1_bc = zeros(xdim_total+4)\n",
    "    \n",
    "    ## Integrate\n",
    "    for n in 1:nstep_total-1\n",
    "        # learned solver\n",
    "        #coeff_estimated = model(hcat(s1_input, u1[:,:,:,n]))\n",
    "        coeff_estimated = reshape(model(hcat(s1_input, u1[:,:,:,n])), (xdim_total, 2, 5))\n",
    "        su = s1_input\n",
    "        s1_bc = vcat( [su[1]], [su[1]], [su[i] for i in 1:xdim_total], [su[xdim_total]], [su[xdim_total]])\n",
    "        s1_scale = reshape(hcat([s1_bc[i] for i in 1:xdim_total],\n",
    "                [s1_bc[i] for i in 2:xdim_total+1],\n",
    "                [s1_bc[i] for i in 3:xdim_total+2],\n",
    "                [s1_bc[i] for i in 4:xdim_total+3],\n",
    "                [s1_bc[i] for i in 5:xdim_total+4]), xdim_total, 5)\n",
    "        s2_2x = reshape(s1_input, xdim_total) + 100*dt/dx*sum(coeff_estimated[:,1,:].*s1_scale, dims=2) \n",
    "                + 10000*(dt*dt)/(dx*dx)*sum(coeff_estimated[:,2,:].*s1_scale, dims=2)\n",
    "        \n",
    "        history_2x_learned[:,1,n+1] = s2_2x\n",
    "        s1_input = reshape(s2_2x, (xdim_total,1,1))\n",
    "    end\n",
    "    \n",
    "    return history_2x_learned\n",
    "end"
   ]
  },
  {
   "cell_type": "code",
   "execution_count": 20,
   "id": "0ab55a51",
   "metadata": {},
   "outputs": [
    {
     "data": {
      "text/plain": [
       "pgm_ml (generic function with 1 method)"
      ]
     },
     "execution_count": 20,
     "metadata": {},
     "output_type": "execute_result"
    }
   ],
   "source": [
    "## Integrating through the whole timesteps using ML based advection solver ##\n",
    "## Programming advection scheme with 9 stencil ##\n",
    "function pgm_ml(x, u1, model, xdim_total, nstep_total, dx, dt)\n",
    "    \n",
    "    ## Initialize\n",
    "    history_2x_learned = zeros(Float32, xdim, 1, nstep)\n",
    "    history_2x_learned[:,:,1] = x[:,1,1,1]\n",
    "    s1_input = x[:,:,:,1]\n",
    "    #s1_scale = s1_input\n",
    "    #s1_bc = zeros(xdim_total+4)\n",
    "    \n",
    "    ## Integrate\n",
    "    for n in 1:nstep_total-1\n",
    "        # learned solver\n",
    "        #coeff_estimated = model(hcat(s1_input, u1[:,:,:,n]))\n",
    "        coeff_estimated = reshape(model(hcat(s1_input, u1[:,:,:,n])), (xdim_total, 2, 9))\n",
    "        su = s1_input\n",
    "        s1_bc = vcat( [su[1]], [su[1]], [su[1]], [su[1]], [su[i] for i in 1:xdim_total], \n",
    "            [su[xdim_total]], [su[xdim_total]], [su[xdim_total]], [su[xdim_total]])\n",
    "        s1_scale = reshape(hcat([s1_bc[i] for i in 1:xdim_total],\n",
    "                [s1_bc[i] for i in 2:xdim_total+1],\n",
    "                [s1_bc[i] for i in 3:xdim_total+2],\n",
    "                [s1_bc[i] for i in 4:xdim_total+3],\n",
    "                [s1_bc[i] for i in 5:xdim_total+4],\n",
    "                [s1_bc[i] for i in 6:xdim_total+5],\n",
    "                [s1_bc[i] for i in 7:xdim_total+6],\n",
    "                [s1_bc[i] for i in 8:xdim_total+7],\n",
    "                [s1_bc[i] for i in 9:xdim_total+8]), xdim_total, 9)\n",
    "        s2_2x = reshape(s1_input, xdim_total) + 100*dt/dx*sum(coeff_estimated[:,1,:].*s1_scale, dims=2) \n",
    "                + 10000*(dt*dt)/(dx*dx)*sum(coeff_estimated[:,2,:].*s1_scale, dims=2)\n",
    "        \n",
    "        history_2x_learned[:,1,n+1] = s2_2x\n",
    "        s1_input = reshape(s2_2x, (xdim_total,1,1))\n",
    "    end\n",
    "    \n",
    "    return history_2x_learned\n",
    "end"
   ]
  },
  {
   "cell_type": "code",
   "execution_count": 2,
   "id": "93efd4c2",
   "metadata": {},
   "outputs": [
    {
     "data": {
      "text/plain": [
       "pgm_ml (generic function with 1 method)"
      ]
     },
     "execution_count": 2,
     "metadata": {},
     "output_type": "execute_result"
    }
   ],
   "source": [
    "## Integrating through the whole timesteps using ML based advection solver ##\n",
    "## Programming advection scheme with 17 stencil ##\n",
    "function pgm_ml(x, u1, model, xdim_total, nstep_total, dx, dt)\n",
    "    \n",
    "    ## Initialize\n",
    "    history_2x_learned = zeros(Float32, xdim, 1, nstep)\n",
    "    history_2x_learned[:,:,1] = x[:,1,1,1]\n",
    "    s1_input = x[:,:,:,1]\n",
    "    #s1_scale = s1_input\n",
    "    #s1_bc = zeros(xdim_total+4)\n",
    "    \n",
    "    ## Integrate\n",
    "    for n in 1:nstep_total-1\n",
    "        # learned solver\n",
    "        #coeff_estimated = model(hcat(s1_input, u1[:,:,:,n]))\n",
    "        coeff_estimated = reshape(model(hcat(s1_input, u1[:,:,:,n])), (xdim_total, 2, 17))\n",
    "        su = s1_input\n",
    "        s1_bc = vcat( [su[1]], [su[1]], [su[1]], [su[1]], [su[1]], [su[1]], [su[1]], [su[1]], [su[i] for i in 1:xdim_total], \n",
    "            [su[xdim_total]], [su[xdim_total]], [su[xdim_total]], [su[xdim_total]], \n",
    "            [su[xdim_total]], [su[xdim_total]], [su[xdim_total]], [su[xdim_total]])\n",
    "        s1_scale = reshape(hcat([s1_bc[i] for i in 1:xdim_total],\n",
    "                [s1_bc[i] for i in 2:xdim_total+1],\n",
    "                [s1_bc[i] for i in 3:xdim_total+2],\n",
    "                [s1_bc[i] for i in 4:xdim_total+3],\n",
    "                [s1_bc[i] for i in 5:xdim_total+4],\n",
    "                [s1_bc[i] for i in 6:xdim_total+5],\n",
    "                [s1_bc[i] for i in 7:xdim_total+6],\n",
    "                [s1_bc[i] for i in 8:xdim_total+7],\n",
    "                [s1_bc[i] for i in 9:xdim_total+8],\n",
    "                [s1_bc[i] for i in 10:xdim_total+9],\n",
    "                [s1_bc[i] for i in 11:xdim_total+10],\n",
    "                [s1_bc[i] for i in 12:xdim_total+11],\n",
    "                [s1_bc[i] for i in 13:xdim_total+12],\n",
    "                [s1_bc[i] for i in 14:xdim_total+13],\n",
    "                [s1_bc[i] for i in 15:xdim_total+14],\n",
    "                [s1_bc[i] for i in 16:xdim_total+15],\n",
    "                [s1_bc[i] for i in 17:xdim_total+16]), xdim_total, 17)\n",
    "        s2_2x = reshape(s1_input, xdim_total) + 100*dt/dx*sum(coeff_estimated[:,1,:].*s1_scale, dims=2) \n",
    "                + 10000*(dt*dt)/(dx*dx)*sum(coeff_estimated[:,2,:].*s1_scale, dims=2)\n",
    "        \n",
    "        history_2x_learned[:,1,n+1] = s2_2x\n",
    "        s1_input = reshape(s2_2x, (xdim_total,1,1))\n",
    "    end\n",
    "    \n",
    "    return history_2x_learned\n",
    "end"
   ]
  },
  {
   "cell_type": "code",
   "execution_count": null,
   "id": "50e24b0e",
   "metadata": {},
   "outputs": [],
   "source": [
    "## Integrating through the whole timesteps using ML based advection solver ##\n",
    "## Programming advection scheme with 31 stencil ##\n",
    "function pgm_ml(x, u1, model, xdim_total, nstep_total, dx, dt)\n",
    "    \n",
    "    ## Initialize\n",
    "    history_2x_learned = zeros(Float32, xdim, 1, nstep)\n",
    "    history_2x_learned[:,:,1] = x[:,1,1,1]\n",
    "    s1_input = x[:,:,:,1]\n",
    "    #s1_scale = s1_input\n",
    "    #s1_bc = zeros(xdim_total+4)\n",
    "    \n",
    "    ## Integrate\n",
    "    for n in 1:nstep_total-1\n",
    "        # learned solver\n",
    "        #coeff_estimated = model(hcat(s1_input, u1[:,:,:,n]))\n",
    "        coeff_estimated = reshape(model(hcat(s1_input, u1[:,:,:,n])), (xdim_total, 2, 31))\n",
    "        su = s1_input\n",
    "        s1_bc = vcat( [su[1]], [su[1]], [su[1]], [su[1]], [su[1]], [su[1]], [su[1]], [su[1]], [su[1]], [su[1]], \n",
    "                [su[1]], [su[1]], [su[1]], [su[1]], [su[1]], [su[i] for i in 1:xdim_total], \n",
    "                [su[xdim_total]], [su[xdim_total]], [su[xdim_total]], [su[xdim_total]], [su[xdim_total]], [su[xdim_total]],\n",
    "                [su[xdim_total]], [su[xdim_total]], [su[xdim_total]], [su[xdim_total]], [su[xdim_total]], [su[xdim_total]],\n",
    "                [su[xdim_total]], [su[xdim_total]], [su[xdim_total]])\n",
    "        s1_scale = reshape(hcat([s1_bc[i] for i in 1:xdim_total],\n",
    "                [s1_bc[i] for i in 2:xdim_total+1],\n",
    "                [s1_bc[i] for i in 3:xdim_total+2],\n",
    "                [s1_bc[i] for i in 4:xdim_total+3],\n",
    "                [s1_bc[i] for i in 5:xdim_total+4],\n",
    "                [s1_bc[i] for i in 6:xdim_total+5],\n",
    "                [s1_bc[i] for i in 7:xdim_total+6],\n",
    "                [s1_bc[i] for i in 8:xdim_total+7],\n",
    "                [s1_bc[i] for i in 9:xdim_total+8],\n",
    "                [s1_bc[i] for i in 10:xdim_total+9],\n",
    "                [s1_bc[i] for i in 11:xdim_total+10],\n",
    "                [s1_bc[i] for i in 12:xdim_total+11],\n",
    "                [s1_bc[i] for i in 13:xdim_total+12],\n",
    "                [s1_bc[i] for i in 14:xdim_total+13],\n",
    "                [s1_bc[i] for i in 15:xdim_total+14],\n",
    "                [s1_bc[i] for i in 16:xdim_total+15],\n",
    "                [s1_bc[i] for i in 17:xdim_total+16],\n",
    "                [s1_bc[i] for i in 18:xdim_total+17],\n",
    "                [s1_bc[i] for i in 19:xdim_total+18],\n",
    "                [s1_bc[i] for i in 20:xdim_total+19],\n",
    "                [s1_bc[i] for i in 21:xdim_total+20],\n",
    "                [s1_bc[i] for i in 22:xdim_total+21],\n",
    "                [s1_bc[i] for i in 23:xdim_total+22],\n",
    "                [s1_bc[i] for i in 24:xdim_total+23],\n",
    "                [s1_bc[i] for i in 25:xdim_total+24],\n",
    "                [s1_bc[i] for i in 26:xdim_total+25],\n",
    "                [s1_bc[i] for i in 27:xdim_total+26],\n",
    "                [s1_bc[i] for i in 28:xdim_total+27],\n",
    "                [s1_bc[i] for i in 29:xdim_total+28],\n",
    "                [s1_bc[i] for i in 30:xdim_total+29],\n",
    "                [s1_bc[i] for i in 31:xdim_total+30]), xdim_total, 31)\n",
    "        s2_2x = reshape(s1_input, xdim_total) + 100*dt/dx*sum(coeff_estimated[:,1,:].*s1_scale, dims=2) \n",
    "                + 10000*(dt*dt)/(dx*dx)*sum(coeff_estimated[:,2,:].*s1_scale, dims=2)\n",
    "        \n",
    "        history_2x_learned[:,1,n+1] = s2_2x\n",
    "        s1_input = reshape(s2_2x, (xdim_total,1,1))\n",
    "    end\n",
    "    \n",
    "    return history_2x_learned\n",
    "end"
   ]
  },
  {
   "cell_type": "code",
   "execution_count": 9,
   "id": "5d6247da",
   "metadata": {},
   "outputs": [],
   "source": [
    "## This cell performs the data loading, specifying the dimension, and model loading.\n",
    "vel_GEOS_Array = readdlm( \"Training_dataset/Vel_GEOS_Jan_2019_NASA_GMAO_10_U_16x_64x.csv\", ',', Float32);\n",
    "scalar_GEOS_Array = readdlm(\"Training_dataset/VL_GEOS_Jan_2019_NASA_GMAO_10_U_16x_64x.csv\", ',', Float32);\n",
    "xdim = size(vel_GEOS_Array, 1);\n",
    "nstep = size(vel_GEOS_Array, 2);\n",
    "\n",
    "Random.seed!(1)\n",
    "history = (scalar_GEOS_Array*Float32(1e7) + 4e-5*rand(Float32, xdim, nstep), vel_GEOS_Array/15);\n",
    "\n",
    "## Call variables\n",
    "coeff_estimated = zeros(Float32, xdim,2)\n",
    "#input = coarse_grained_s_2x[:,:]\n",
    "s2_2x = convert(Array{Float64}, zeros(xdim))\n",
    "history_2x_learned = zeros(xdim, 1, nstep);\n",
    "\n",
    "input_NN_integrate = zeros(Float32, xdim, 1, 1, nstep-1)\n",
    "u_NN_integrate = zeros(Float32, xdim, 1, 1, nstep-1)\n",
    "target_NN_integrate = zeros(Float32, xdim, 1, 1, nstep-1)\n",
    "\n",
    "input_NN_integrate[:,1,1,:] = history[1][:,1:nstep-1]\n",
    "u_NN_integrate[:,1,1,:] = history[2][:,1:nstep-1]\n",
    "target_NN_integrate[:,1,1,:] = history[1][:,2:nstep]\n",
    "\n",
    "@load \"Train_outputs/16x64t/CNN_DLR_56EPOCHS_16X64X_VL_GEOS_JAN_2019_NASA_GMAO.bson_MODEL\" model\n",
    "ps = Flux.params(model);"
   ]
  },
  {
   "cell_type": "code",
   "execution_count": 10,
   "id": "6f79cff9",
   "metadata": {},
   "outputs": [
    {
     "name": "stdout",
     "output_type": "stream",
     "text": [
      "  0.002172 seconds (11.14 k allocations: 1.551 MiB)\n"
     ]
    }
   ],
   "source": [
    "## This code evaluate the computational time in a single run.\n",
    "@time A = 1e-7*pgm_ml(input_NN_integrate, u_NN_integrate, model, xdim, nstep, Float32(27034.3*16), 300*64);"
   ]
  },
  {
   "cell_type": "code",
   "execution_count": 12,
   "id": "9175bb01",
   "metadata": {},
   "outputs": [
    {
     "data": {
      "text/plain": [
       "BenchmarkTools.Trial: 2435 samples with 1 evaluation.\n",
       " Range \u001b[90m(\u001b[39m\u001b[36m\u001b[1mmin\u001b[22m\u001b[39m … \u001b[35mmax\u001b[39m\u001b[90m):  \u001b[39m\u001b[36m\u001b[1m1.772 ms\u001b[22m\u001b[39m … \u001b[35m20.746 ms\u001b[39m  \u001b[90m┊\u001b[39m GC \u001b[90m(\u001b[39mmin … max\u001b[90m): \u001b[39m0.00% … 88.12%\n",
       " Time  \u001b[90m(\u001b[39m\u001b[34m\u001b[1mmedian\u001b[22m\u001b[39m\u001b[90m):     \u001b[39m\u001b[34m\u001b[1m1.884 ms              \u001b[22m\u001b[39m\u001b[90m┊\u001b[39m GC \u001b[90m(\u001b[39mmedian\u001b[90m):    \u001b[39m0.00%\n",
       " Time  \u001b[90m(\u001b[39m\u001b[32m\u001b[1mmean\u001b[22m\u001b[39m ± \u001b[32mσ\u001b[39m\u001b[90m):   \u001b[39m\u001b[32m\u001b[1m2.049 ms\u001b[22m\u001b[39m ± \u001b[32m 1.212 ms\u001b[39m  \u001b[90m┊\u001b[39m GC \u001b[90m(\u001b[39mmean ± σ\u001b[90m):  \u001b[39m6.37% ±  9.13%\n",
       "\n",
       "  \u001b[39m█\u001b[34m \u001b[39m\u001b[32m \u001b[39m\u001b[39m \u001b[39m \u001b[39m \u001b[39m \u001b[39m \u001b[39m \u001b[39m \u001b[39m \u001b[39m \u001b[39m \u001b[39m \u001b[39m \u001b[39m \u001b[39m \u001b[39m \u001b[39m \u001b[39m \u001b[39m \u001b[39m \u001b[39m \u001b[39m \u001b[39m \u001b[39m \u001b[39m \u001b[39m \u001b[39m \u001b[39m \u001b[39m \u001b[39m \u001b[39m \u001b[39m \u001b[39m \u001b[39m \u001b[39m \u001b[39m \u001b[39m \u001b[39m \u001b[39m \u001b[39m \u001b[39m \u001b[39m \u001b[39m \u001b[39m \u001b[39m \u001b[39m \u001b[39m \u001b[39m \u001b[39m \u001b[39m \u001b[39m \u001b[39m \u001b[39m \u001b[39m \u001b[39m \u001b[39m \u001b[39m \u001b[39m \n",
       "  \u001b[39m█\u001b[34m▃\u001b[39m\u001b[32m▄\u001b[39m\u001b[39m▂\u001b[39m▁\u001b[39m▂\u001b[39m▁\u001b[39m▁\u001b[39m▁\u001b[39m▁\u001b[39m▁\u001b[39m▁\u001b[39m▁\u001b[39m▂\u001b[39m▁\u001b[39m▁\u001b[39m▁\u001b[39m▁\u001b[39m▁\u001b[39m▁\u001b[39m▁\u001b[39m▁\u001b[39m▁\u001b[39m▁\u001b[39m▁\u001b[39m▁\u001b[39m▁\u001b[39m▁\u001b[39m▁\u001b[39m▁\u001b[39m▁\u001b[39m▁\u001b[39m▁\u001b[39m▁\u001b[39m▁\u001b[39m▁\u001b[39m▁\u001b[39m▁\u001b[39m▁\u001b[39m▁\u001b[39m▁\u001b[39m▁\u001b[39m▁\u001b[39m▁\u001b[39m▁\u001b[39m▁\u001b[39m▁\u001b[39m▁\u001b[39m▁\u001b[39m▁\u001b[39m▁\u001b[39m▁\u001b[39m▁\u001b[39m▁\u001b[39m▁\u001b[39m▁\u001b[39m▁\u001b[39m▂\u001b[39m \u001b[39m▂\n",
       "  1.77 ms\u001b[90m        Histogram: frequency by time\u001b[39m        12.1 ms \u001b[0m\u001b[1m<\u001b[22m\n",
       "\n",
       " Memory estimate\u001b[90m: \u001b[39m\u001b[33m1.55 MiB\u001b[39m, allocs estimate\u001b[90m: \u001b[39m\u001b[33m11139\u001b[39m."
      ]
     },
     "execution_count": 12,
     "metadata": {},
     "output_type": "execute_result"
    }
   ],
   "source": [
    "## This code evaluate the computational time in a more desirable way.\n",
    "## Evaluate multiple times to take the average.\n",
    "## If the running time is large enough to neglect the initialization and garbage collection time,\n",
    "## @benchmark only evaluates the time once.\n",
    "@benchmark A = 1e-7*pgm_ml(input_NN_integrate, u_NN_integrate, model, xdim, nstep, Float32(27034.3*16), 300*64)"
   ]
  }
 ],
 "metadata": {
  "kernelspec": {
   "display_name": "Julia 1.8.2",
   "language": "julia",
   "name": "julia-1.8"
  },
  "language_info": {
   "file_extension": ".jl",
   "mimetype": "application/julia",
   "name": "julia",
   "version": "1.8.2"
  }
 },
 "nbformat": 4,
 "nbformat_minor": 5
}
