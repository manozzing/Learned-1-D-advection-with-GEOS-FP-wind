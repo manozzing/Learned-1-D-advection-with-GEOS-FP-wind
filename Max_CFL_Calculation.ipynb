{
 "cells": [
  {
   "cell_type": "markdown",
   "id": "97a383e9",
   "metadata": {},
   "source": [
    "**This notebook is used to compute the maximum CFL number in each wind velocity field used in this study.**"
   ]
  },
  {
   "cell_type": "code",
   "execution_count": 1,
   "id": "65990c90",
   "metadata": {},
   "outputs": [],
   "source": [
    "## Import packages\n",
    "#import Pkg\n",
    "#Pkg.add(\"Plots\")\n",
    "using Plots\n",
    "#Pkg.add(\"BenchmarkTools\")\n",
    "using BenchmarkTools\n",
    "#Pkg.add(\"Flux\")\n",
    "using Flux\n",
    "#Pkg.add(\"CSV\")\n",
    "using CSV\n",
    "#Pkg.add(\"DelimitedFiles\")\n",
    "using DelimitedFiles\n",
    "#Pkg.add(\"Statistics\")\n",
    "using Statistics\n",
    "#Pkg.add(\"StatsBase\")\n",
    "using StatsBase\n",
    "#Pkg.add(\"BSON\")\n",
    "using BSON: @save\n",
    "using BSON: @load\n",
    "#Pkg.add(\"Random\")\n",
    "using Random"
   ]
  },
  {
   "cell_type": "code",
   "execution_count": 2,
   "id": "f7515dc7",
   "metadata": {},
   "outputs": [],
   "source": [
    "## Load the velocity fields in different 1-D spatial domain. Each field has different dx distance in meter.\n",
    "# 29N dx = 30276.7\n",
    "# 39N dx = 27034.3\n",
    "# 45N dx = 24597.8\n",
    "# Longitudinal dy = 27829.3\n",
    "\n",
    "vel_39N = readdlm(\"Generalization_tests/IC_DiracDelta/Vel_GEOS_Jan_2019_NASA_GMAO_10_U_1x_1x.csv\", ',', Float32);\n",
    "vel_29N = readdlm(\"Generalization_tests/Lat_29N/Vel_GEOS_Jan_2019_NASA_GMAO_10_U_1x_1x.csv\", ',', Float32);\n",
    "vel_45N = readdlm(\"Generalization_tests/Lat_45N/Vel_GEOS_Jan_2019_NASA_GMAO_10_U_1x_1x.csv\", ',', Float32);\n",
    "vel_Long = readdlm(\"Generalization_tests/Longitudinal/Vel_GEOS_Jan_2019_NASA_GMAO_10_U_1x_1x.csv\", ',', Float32);"
   ]
  },
  {
   "cell_type": "code",
   "execution_count": 5,
   "id": "ec6a026b",
   "metadata": {},
   "outputs": [
    {
     "data": {
      "text/plain": [
       "(0.1455635710071606, 0.22692157798149018, 0.20797091419252942, 0.17180063129844264)"
      ]
     },
     "execution_count": 5,
     "metadata": {},
     "output_type": "execute_result"
    }
   ],
   "source": [
    "## Calculate the maximum CFL numbers\n",
    "MaxCFL_29N = maximum(vel_29N * 300 / 30276.7)\n",
    "MaxCFL_39N = maximum(vel_39N * 300 / 27034.3)\n",
    "MaxCFL_45N = maximum(vel_45N * 300 / 24597.8)\n",
    "MaxCFL_Long = maximum(vel_Long * 300 / 27829.3)\n",
    "\n",
    "MaxCFL_29N, MaxCFL_39N, MaxCFL_45N, MaxCFL_Long"
   ]
  },
  {
   "cell_type": "code",
   "execution_count": 7,
   "id": "8fe09a0a",
   "metadata": {},
   "outputs": [],
   "source": [
    "## Load the velocity fields in different seasons.\n",
    "vel_Jan = readdlm(\"Generalization_tests/IC_DiracDelta/Vel_GEOS_Jan_2019_NASA_GMAO_10_U_1x_1x.csv\", ',', Float32);\n",
    "vel_Apr = readdlm(\"Generalization_tests/Season_April/Vel_GEOS_Jan_2019_NASA_GMAO_10_U_1x_1x.csv\", ',', Float32);\n",
    "vel_Jul = readdlm(\"Generalization_tests/Season_Jul/Vel_GEOS_Jan_2019_NASA_GMAO_10_U_1x_1x.csv\", ',', Float32);\n",
    "vel_Oct = readdlm(\"Generalization_tests/Season_Oct/Vel_GEOS_Jan_2019_NASA_GMAO_10_U_1x_1x.csv\", ',', Float32);"
   ]
  },
  {
   "cell_type": "code",
   "execution_count": 8,
   "id": "adc85889",
   "metadata": {},
   "outputs": [
    {
     "data": {
      "text/plain": [
       "(0.22692157798149018, 0.2748991847856242, 0.14425551702201, 0.1752902468750347)"
      ]
     },
     "execution_count": 8,
     "metadata": {},
     "output_type": "execute_result"
    }
   ],
   "source": [
    "## Calculate the maximum CFL numbers\n",
    "MaxCFL_Jan = maximum(vel_Jan * 300 / 27034.3)\n",
    "MaxCFL_Apr = maximum(vel_Apr * 300 / 27034.3)\n",
    "MaxCFL_Jul = maximum(vel_Jul * 300 / 27034.3)\n",
    "MaxCFL_Oct = maximum(vel_Oct * 300 / 27034.3)\n",
    "\n",
    "MaxCFL_Jan, MaxCFL_Apr, MaxCFL_Jul, MaxCFL_Oct"
   ]
  },
  {
   "cell_type": "code",
   "execution_count": 39,
   "id": "a180c4c0",
   "metadata": {},
   "outputs": [
    {
     "data": {
      "text/plain": [
       "0.10815092929976919"
      ]
     },
     "execution_count": 39,
     "metadata": {},
     "output_type": "execute_result"
    }
   ],
   "source": [
    "## Calculate the maximum CFL numbers in different downsampling factors\n",
    "space_factor = 16\n",
    "time_factor = 8\n",
    "vel = readdlm(\"Training_dataset/Vel_GEOS_Jan_2019_NASA_GMAO_10_U_\"*string(space_factor)*\"x_\"*string(space_factor)*\"x.csv\", ',', Float32);\n",
    "\n",
    "timestep = 300 * time_factor\n",
    "spacing = 27034.3 * space_factor\n",
    "MaxCFL = maximum(vel * timestep / spacing)"
   ]
  }
 ],
 "metadata": {
  "kernelspec": {
   "display_name": "Julia 1.8.2",
   "language": "julia",
   "name": "julia-1.8"
  },
  "language_info": {
   "file_extension": ".jl",
   "mimetype": "application/julia",
   "name": "julia",
   "version": "1.8.2"
  }
 },
 "nbformat": 4,
 "nbformat_minor": 5
}
